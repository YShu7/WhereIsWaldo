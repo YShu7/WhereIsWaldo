{
 "cells": [
  {
   "cell_type": "code",
   "execution_count": 1,
   "metadata": {},
   "outputs": [],
   "source": [
    "from image_generator import load_train_images\n",
    "train_images_waldo = load_train_images('training_set/waldo')\n",
    "train_images_wenda = load_train_images('training_set/wenda')\n",
    "train_images_wizard = load_train_images('training_set/wizard')\n",
    "train_images_others = load_train_images('training_set/others')"
   ]
  },
  {
   "cell_type": "code",
   "execution_count": 2,
   "metadata": {},
   "outputs": [],
   "source": [
    "training_set = []\n",
    "training_set.extend(train_images_waldo)\n",
    "training_set.extend(train_images_wenda)\n",
    "training_set.extend(train_images_wizard)\n",
    "training_set.extend(train_images_others)"
   ]
  },
  {
   "cell_type": "code",
   "execution_count": 3,
   "metadata": {},
   "outputs": [],
   "source": [
    "train_labels = ['waldo'] * len(train_images_waldo)\n",
    "train_labels.extend(['wenda'] * len(train_images_wenda))\n",
    "train_labels.extend(['wizard'] * len(train_images_wizard))\n",
    "train_labels.extend(['others'] * len(train_images_others))"
   ]
  },
  {
   "cell_type": "code",
   "execution_count": 4,
   "metadata": {},
   "outputs": [],
   "source": [
    "val_images_waldo = load_train_images('validation_set/waldo')\n",
    "val_images_wenda = load_train_images('validation_set/wenda')\n",
    "val_images_wizard = load_train_images('validation_set/wizard')\n",
    "val_images_others = load_train_images('validation_set/others')"
   ]
  },
  {
   "cell_type": "code",
   "execution_count": 5,
   "metadata": {},
   "outputs": [],
   "source": [
    "val_images_all = []\n",
    "val_images_all.extend(val_images_waldo)\n",
    "val_images_all.extend(val_images_wenda)\n",
    "val_images_all.extend(val_images_wizard)\n",
    "val_images_all.extend(val_images_others)"
   ]
  },
  {
   "cell_type": "markdown",
   "metadata": {},
   "source": [
    "#### Hog Template"
   ]
  },
  {
   "cell_type": "code",
   "execution_count": 6,
   "metadata": {},
   "outputs": [],
   "source": [
    "import argparse\n",
    "import imutils\n",
    "import cv2\n",
    "from sklearn.svm import SVC\n",
    "from skimage import exposure\n",
    "from skimage import feature\n",
    "from imutils import paths"
   ]
  },
  {
   "cell_type": "code",
   "execution_count": 7,
   "metadata": {},
   "outputs": [],
   "source": [
    "import matplotlib.pyplot as plt\n",
    "import matplotlib.image as mpimg\n",
    "import cv2\n",
    "\n",
    "from skimage.feature import hog\n",
    "from skimage import data, exposure\n",
    "\n",
    "data = []\n",
    "labels = []\n",
    "\n",
    "for label, gray in zip(train_labels, training_set):\n",
    "    #(x, y, w, h) = cv2.boundingRect(gray)\n",
    "    #logo = gray[y:y + h, x:x + w]\n",
    "    gray = cv2.resize(gray, (200, 100))\n",
    " \n",
    "    H = feature.hog(gray, orientations=9, pixels_per_cell=(10, 10),\n",
    "        cells_per_block=(2, 2), transform_sqrt=True, block_norm=\"L2-Hys\")\n",
    " \n",
    "    data.append(H)\n",
    "    labels.append(label)"
   ]
  },
  {
   "cell_type": "code",
   "execution_count": 8,
   "metadata": {},
   "outputs": [
    {
     "name": "stdout",
     "output_type": "stream",
     "text": [
      "[INFO] training classifier...\n",
      "[INFO] evaluating...\n"
     ]
    }
   ],
   "source": [
    "# \"train\" the nearest neighbors classifier\n",
    "print(\"[INFO] training classifier...\")\n",
    "model = SVC(gamma=\"scale\", decision_function_shape='ovo', probability=True, kernel=\"linear\")\n",
    "model.fit(data, labels)\n",
    "print(\"[INFO] evaluating...\")"
   ]
  },
  {
   "cell_type": "markdown",
   "metadata": {},
   "source": [
    "#### Feature Map"
   ]
  },
  {
   "cell_type": "code",
   "execution_count": 9,
   "metadata": {},
   "outputs": [
    {
     "name": "stdout",
     "output_type": "stream",
     "text": [
      "0.8488372093023255\n"
     ]
    }
   ],
   "source": [
    "import numpy as np\n",
    "import time\n",
    "\n",
    "start_time = time.time()\n",
    "\n",
    "correct_waldo = 0\n",
    "# loop over the test dataset\n",
    "for chunk in val_images_waldo: \n",
    "    logo = cv2.resize(chunk, (200, 100))\n",
    "\n",
    "    # extract Histogram of Oriented Gradients from the test image and\n",
    "    # predict the make of the car\n",
    "    (H, hogImage) = feature.hog(logo, orientations=9, pixels_per_cell=(10, 10),\n",
    "        cells_per_block=(2, 2), transform_sqrt=True, block_norm=\"L2-Hys\", visualize=True)\n",
    "    pred = model.predict(H.reshape(1, -1))[0]\n",
    "    score = model.score(H.reshape(1, -1), [pred])\n",
    "\n",
    "    if pred == 'waldo':\n",
    "        correct_waldo += 1\n",
    "    \n",
    "print(correct_waldo / len(val_images_waldo))"
   ]
  },
  {
   "cell_type": "code",
   "execution_count": 10,
   "metadata": {},
   "outputs": [
    {
     "name": "stdout",
     "output_type": "stream",
     "text": [
      "wizard 1.0\n",
      "waldo 1.0\n",
      "waldo 1.0\n",
      "waldo 1.0\n",
      "waldo 1.0\n",
      "wenda 1.0\n",
      "waldo 1.0\n",
      "0.14285714285714285\n"
     ]
    }
   ],
   "source": [
    "import numpy as np\n",
    "\n",
    "correct_wenda = 0\n",
    "# loop over the test dataset\n",
    "for chunk in val_images_wenda: \n",
    "    logo = cv2.resize(chunk, (200, 100))\n",
    "\n",
    "    # extract Histogram of Oriented Gradients from the test image and\n",
    "    # predict the make of the car\n",
    "    (H, hogImage) = feature.hog(logo, orientations=9, pixels_per_cell=(10, 10),\n",
    "        cells_per_block=(2, 2), transform_sqrt=True, block_norm=\"L2-Hys\", visualize=True)\n",
    "    pred = model.predict(H.reshape(1, -1))[0]\n",
    "    score = model.score(H.reshape(1, -1), [pred])\n",
    "\n",
    "    print(pred, score)\n",
    "    #plt.imshow(logo)\n",
    "    #plt.show()\n",
    "\n",
    "    if pred == 'wenda':\n",
    "        correct_wenda += 1\n",
    "    \n",
    "print(correct_wenda / len(val_images_wenda))"
   ]
  },
  {
   "cell_type": "code",
   "execution_count": 11,
   "metadata": {},
   "outputs": [
    {
     "name": "stdout",
     "output_type": "stream",
     "text": [
      "1.0\n"
     ]
    }
   ],
   "source": [
    "import numpy as np\n",
    "\n",
    "correct_wizard = 0\n",
    "# loop over the test dataset\n",
    "for chunk in val_images_wizard: \n",
    "    logo = cv2.resize(chunk, (200, 100))\n",
    "\n",
    "    # extract Histogram of Oriented Gradients from the test image and\n",
    "    # predict the make of the car\n",
    "    (H, hogImage) = feature.hog(logo, orientations=9, pixels_per_cell=(10, 10),\n",
    "        cells_per_block=(2, 2), transform_sqrt=True, block_norm=\"L2-Hys\", visualize=True)\n",
    "    pred = model.predict(H.reshape(1, -1))[0]\n",
    "    score = model.score(H.reshape(1, -1), [pred])\n",
    "\n",
    "    #print(pred, score)\n",
    "    #plt.imshow(logo)\n",
    "    #plt.show()\n",
    "\n",
    "    if pred == 'wizard':\n",
    "        correct_wizard += 1\n",
    "    \n",
    "print(correct_wizard / len(val_images_wizard))"
   ]
  },
  {
   "cell_type": "code",
   "execution_count": 12,
   "metadata": {},
   "outputs": [
    {
     "name": "stdout",
     "output_type": "stream",
     "text": [
      "0.9625\n",
      "9.54807710647583\n"
     ]
    }
   ],
   "source": [
    "import numpy as np\n",
    "\n",
    "correct_wizard = 0\n",
    "# loop over the test dataset\n",
    "for chunk in val_images_others: \n",
    "    logo = cv2.resize(chunk, (200, 100))\n",
    "\n",
    "    # extract Histogram of Oriented Gradients from the test image and\n",
    "    # predict the make of the car\n",
    "    (H, hogImage) = feature.hog(logo, orientations=9, pixels_per_cell=(10, 10),\n",
    "        cells_per_block=(2, 2), transform_sqrt=True, block_norm=\"L2-Hys\", visualize=True)\n",
    "    pred = model.predict(H.reshape(1, -1))[0]\n",
    "    score = model.score(H.reshape(1, -1), [pred])\n",
    "\n",
    "    #print(pred, score)\n",
    "    #plt.imshow(logo)\n",
    "    #plt.show()\n",
    "\n",
    "    if pred == 'others':\n",
    "        correct_wizard += 1\n",
    "    \n",
    "print(correct_wizard / len(val_images_others))\n",
    "print(time.time() - start_time)"
   ]
  },
  {
   "cell_type": "code",
   "execution_count": 13,
   "metadata": {},
   "outputs": [],
   "source": [
    "val_labels = ['waldo'] * len(val_images_waldo)\n",
    "val_labels.extend(['wenda'] * len(val_images_wenda))\n",
    "val_labels.extend(['wizard'] * len(val_images_wizard))\n",
    "val_labels.extend(['others'] * len(val_images_others))"
   ]
  },
  {
   "cell_type": "code",
   "execution_count": 15,
   "metadata": {},
   "outputs": [
    {
     "name": "stdout",
     "output_type": "stream",
     "text": [
      "0.9625\n",
      "0.0375\n",
      "11.033499956130981\n"
     ]
    }
   ],
   "source": [
    "import numpy as np\n",
    "start_time = time.time()\n",
    "\n",
    "TP = 0\n",
    "FP = 0\n",
    "# loop over the test dataset\n",
    "for chunk, label in zip(val_images_all, val_labels): \n",
    "    logo = cv2.resize(chunk, (200, 100))\n",
    "\n",
    "    # extract Histogram of Oriented Gradients from the test image and\n",
    "    # predict the make of the car\n",
    "    (H, hogImage) = feature.hog(logo, orientations=9, pixels_per_cell=(10, 10),\n",
    "        cells_per_block=(2, 2), transform_sqrt=True, block_norm=\"L2-Hys\", visualize=True)\n",
    "    pred = model.predict(H.reshape(1, -1))[0]\n",
    "    score = model.score(H.reshape(1, -1), [pred])\n",
    "\n",
    "    if pred == label and label == 'others':\n",
    "        TP += 1\n",
    "    if pred != label and label == 'others':\n",
    "        FP += 1\n",
    "    \n",
    "print(TP / len(val_images_others))\n",
    "print(FP / len(val_images_others))\n",
    "print(time.time() - start_time)"
   ]
  },
  {
   "cell_type": "code",
   "execution_count": null,
   "metadata": {},
   "outputs": [],
   "source": [
    "from image_generator import filter\n"
   ]
  }
 ],
 "metadata": {
  "kernelspec": {
   "display_name": "Python 3",
   "language": "python",
   "name": "python3"
  },
  "language_info": {
   "codemirror_mode": {
    "name": "ipython",
    "version": 3
   },
   "file_extension": ".py",
   "mimetype": "text/x-python",
   "name": "python",
   "nbconvert_exporter": "python",
   "pygments_lexer": "ipython3",
   "version": "3.7.3"
  }
 },
 "nbformat": 4,
 "nbformat_minor": 2
}
