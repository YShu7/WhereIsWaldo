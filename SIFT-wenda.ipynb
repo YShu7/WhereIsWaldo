{
 "cells": [
  {
   "cell_type": "markdown",
   "metadata": {},
   "source": [
    "### Import Packages"
   ]
  },
  {
   "cell_type": "code",
   "execution_count": 1,
   "metadata": {},
   "outputs": [],
   "source": [
    "from matplotlib import pyplot as plt\n",
    "import numpy as np\n",
    "import os.path as osp\n",
    "import pickle\n",
    "import scipy.misc"
   ]
  },
  {
   "cell_type": "markdown",
   "metadata": {},
   "source": [
    "#### Load training dataset"
   ]
  },
  {
   "cell_type": "code",
   "execution_count": 2,
   "metadata": {},
   "outputs": [],
   "source": [
    "from image_generator import load_train_images\n",
    "train_images_wenda = load_train_images('training_set/wenda')\n",
    "train_images_others = load_train_images('training_set/others')"
   ]
  },
  {
   "cell_type": "code",
   "execution_count": 3,
   "metadata": {},
   "outputs": [],
   "source": [
    "training_set = []\n",
    "training_set.extend(train_images_wenda)\n",
    "training_set.extend(train_images_others)"
   ]
  },
  {
   "cell_type": "code",
   "execution_count": 4,
   "metadata": {},
   "outputs": [],
   "source": [
    "train_labels = ['wenda'] * len(train_images_wenda)\n",
    "train_labels.extend(['others'] * len(train_images_others))"
   ]
  },
  {
   "cell_type": "markdown",
   "metadata": {},
   "source": [
    "### Generate Vocab"
   ]
  },
  {
   "cell_type": "code",
   "execution_count": 5,
   "metadata": {},
   "outputs": [],
   "source": [
    "%load_ext autoreload\n",
    "%autoreload 2\n",
    "\n",
    "from image_generator import build_vocab\n",
    "vocab_filename = 'vocab_wenda.pkl'\n",
    "if not osp.isfile(vocab_filename):\n",
    "    print('No existing visual word vocabulary found. Computing one from training images')\n",
    "    vocab_size = 200  # Larger values will work better (to a point) but be slower to compute\n",
    "    vocab = build_vocab(training_set, vocab_size)\n",
    "    \n",
    "    with open(vocab_filename, 'wb') as f:\n",
    "        pickle.dump(vocab, f)\n",
    "        print('{:s} saved'.format(vocab_filename))"
   ]
  },
  {
   "cell_type": "markdown",
   "metadata": {},
   "source": [
    "### Generate Feature"
   ]
  },
  {
   "cell_type": "code",
   "execution_count": 6,
   "metadata": {},
   "outputs": [],
   "source": [
    "import time\n",
    "\n",
    "start_time = time.time()\n",
    "\n",
    "from image_generator import bags_of_sifts_spm\n",
    "train_image_feats = bags_of_sifts_spm(training_set, vocab_filename, 3)"
   ]
  },
  {
   "cell_type": "code",
   "execution_count": 7,
   "metadata": {},
   "outputs": [],
   "source": [
    "from image_generator import get_images\n",
    "\n",
    "from image_generator import get_train_val\n",
    "train_image_ids, val_image_ids = get_train_val()\n",
    "val_images = get_images(val_image_ids)\n",
    "train_images = get_images(train_image_ids)"
   ]
  },
  {
   "cell_type": "code",
   "execution_count": 8,
   "metadata": {},
   "outputs": [],
   "source": [
    "val_images_waldo = load_train_images('validation_set/waldo')\n",
    "val_images_wenda = load_train_images('validation_set/wenda')\n",
    "val_images_wizard = load_train_images('validation_set/wizard')\n",
    "val_images_others = load_train_images('validation_set/others')"
   ]
  },
  {
   "cell_type": "code",
   "execution_count": 9,
   "metadata": {},
   "outputs": [],
   "source": [
    "val_images_all = []\n",
    "val_images_all.extend(val_images_waldo)\n",
    "val_images_all.extend(val_images_wenda)\n",
    "val_images_all.extend(val_images_wizard)\n",
    "val_images_all.extend(val_images_others)"
   ]
  },
  {
   "cell_type": "code",
   "execution_count": 10,
   "metadata": {},
   "outputs": [],
   "source": [
    "val_labels = ['others'] * len(val_images_waldo)\n",
    "val_labels.extend(['wenda'] * len(val_images_wenda))\n",
    "val_labels.extend(['others'] * len(val_images_wizard))\n",
    "val_labels.extend(['others'] * len(val_images_others))"
   ]
  },
  {
   "cell_type": "code",
   "execution_count": 11,
   "metadata": {},
   "outputs": [],
   "source": [
    "from sklearn.metrics import accuracy_score, confusion_matrix\n",
    "import matplotlib.pyplot as plt\n",
    "import seaborn as sns\n",
    "\n",
    "def colorConfusionMatrix(y_valid, y_pred_valid):\n",
    "    cm = confusion_matrix(y_valid, y_pred_valid)\n",
    "    df_cm = pd.DataFrame(cm, ['wenda', 'others'],\n",
    "                        ['wenda', 'others'])\n",
    "    plt.rcParams[\"figure.figsize\"] = (5,5) # set the size of the image\n",
    "    ax = plt.axes()\n",
    "    sns.heatmap(df_cm, annot=True, fmt='g',square=True)\n",
    "    ax.set_title(\"Confusion Matrix\")\n",
    "    ax.set_ylabel('Actual')  \n",
    "    ax.set_xlabel('Predicted')  \n",
    "    plt.show()"
   ]
  },
  {
   "cell_type": "markdown",
   "metadata": {},
   "source": [
    "#### SVM"
   ]
  },
  {
   "cell_type": "code",
   "execution_count": 12,
   "metadata": {},
   "outputs": [
    {
     "data": {
      "text/plain": [
       "SVC(C=1.0, cache_size=200, class_weight=None, coef0=0.0,\n",
       "    decision_function_shape='ovo', degree=3, gamma='scale', kernel='linear',\n",
       "    max_iter=-1, probability=True, random_state=None, shrinking=True, tol=0.001,\n",
       "    verbose=False)"
      ]
     },
     "execution_count": 12,
     "metadata": {},
     "output_type": "execute_result"
    }
   ],
   "source": [
    "from sklearn.svm import SVC\n",
    "svm = SVC(gamma=\"scale\", decision_function_shape='ovo', probability=True, kernel=\"linear\")\n",
    "svm.fit(train_image_feats, train_labels)"
   ]
  },
  {
   "cell_type": "code",
   "execution_count": 15,
   "metadata": {},
   "outputs": [],
   "source": [
    "import time\n",
    "\n",
    "start_time = time.time()\n",
    "\n",
    "val_image_feats = bags_of_sifts_spm(val_images_all, vocab_filename, 3)\n",
    "y_pred = svm.predict(val_image_feats)"
   ]
  },
  {
   "cell_type": "code",
   "execution_count": 16,
   "metadata": {},
   "outputs": [
    {
     "name": "stdout",
     "output_type": "stream",
     "text": [
      "47.09952521324158\n",
      "Accuracy: 0.6363636363636364\n",
      "Recall: 0.6363636363636364\n",
      "F1: 0.6363636363636364\n"
     ]
    }
   ],
   "source": [
    "from sklearn.metrics import recall_score\n",
    "from sklearn.metrics import f1_score\n",
    "from sklearn.metrics import accuracy_score\n",
    "\n",
    "print(time.time()-start_time)\n",
    "print(\"Accuracy: {0}\".format(accuracy_score(val_labels, y_pred)))\n",
    "print(\"Recall: {0}\".format(accuracy_score(val_labels, y_pred)))\n",
    "print(\"F1: {0}\".format(accuracy_score(val_labels, y_pred)))"
   ]
  },
  {
   "cell_type": "code",
   "execution_count": null,
   "metadata": {},
   "outputs": [],
   "source": []
  }
 ],
 "metadata": {
  "kernelspec": {
   "display_name": "Python 3",
   "language": "python",
   "name": "python3"
  },
  "language_info": {
   "codemirror_mode": {
    "name": "ipython",
    "version": 3
   },
   "file_extension": ".py",
   "mimetype": "text/x-python",
   "name": "python",
   "nbconvert_exporter": "python",
   "pygments_lexer": "ipython3",
   "version": "3.7.3"
  }
 },
 "nbformat": 4,
 "nbformat_minor": 2
}
