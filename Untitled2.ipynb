{
 "cells": [
  {
   "cell_type": "code",
   "execution_count": null,
   "metadata": {},
   "outputs": [],
   "source": [
    "%load_ext autoreload\n",
    "%autoreload 2\n",
    "\n",
    "from utils import test_image\n",
    "import time\n",
    "\n",
    "image_ids = [\"003\", \"018\", \"036\", \"043\", \"038\", \"056\", \"067\", \"074\"]\n",
    "start_time = time.time()\n",
    "test_image(image_ids[4])\n",
    "print(time.time() - start_time)"
   ]
  },
  {
   "cell_type": "code",
   "execution_count": 1,
   "metadata": {
    "scrolled": true
   },
   "outputs": [
    {
     "name": "stdout",
     "output_type": "stream",
     "text": [
      "2\n",
      "204.6392366886139\n"
     ]
    }
   ],
   "source": [
    "%load_ext autoreload\n",
    "%autoreload 2\n",
    "\n",
    "from utils import test_image\n",
    "import time\n",
    "\n",
    "image_ids = [\"003\", \"018\", \"036\", \"043\", \"038\", \"056\", \"067\", \"074\"]\n",
    "start_time = time.time()\n",
    "test_image(image_ids[4])\n",
    "print(time.time() - start_time)"
   ]
  },
  {
   "cell_type": "code",
   "execution_count": null,
   "metadata": {},
   "outputs": [],
   "source": [
    "%load_ext autoreload\n",
    "%autoreload 2\n",
    "\n",
    "from utils import test_image\n",
    "import time\n",
    "\n",
    "image_ids = [\"003\", \"018\", \"036\", \"043\", \"038\", \"056\", \"067\", \"074\"]\n",
    "start_time = time.time()\n",
    "test_image(image_ids[4])\n",
    "print(time.time() - start_time)"
   ]
  },
  {
   "cell_type": "code",
   "execution_count": null,
   "metadata": {},
   "outputs": [
    {
     "name": "stdout",
     "output_type": "stream",
     "text": [
      "The autoreload extension is already loaded. To reload it, use:\n",
      "  %reload_ext autoreload\n"
     ]
    }
   ],
   "source": [
    "%load_ext autoreload\n",
    "%autoreload 2\n",
    "\n",
    "from utils import test_image\n",
    "import time\n",
    "\n",
    "image_ids = [\"003\", \"018\", \"036\", \"043\", \"038\", \"056\", \"067\", \"074\"]\n",
    "start_time = time.time()\n",
    "test_image(image_ids[4])\n",
    "print(time.time() - start_time)"
   ]
  },
  {
   "cell_type": "code",
   "execution_count": null,
   "metadata": {},
   "outputs": [],
   "source": [
    "paths = [f for f in os.listdir(\"training_set/wizard/\") if isfile(join(\"training_set/wizard/\", f)) and f.endswith('.jpg')]\n",
    "for path in paths:\n",
    "    img = mpimg.imread(join(\"training_set/wizard/{}\".format(path)))\n",
    "    new_candidate = cv2.resize(img, (40, 50))\n",
    "    \n",
    "    imageio.imwrite('positive_imgs/wizard/wizard_{}'.format(path), new_candidate)"
   ]
  }
 ],
 "metadata": {
  "kernelspec": {
   "display_name": "Python 3",
   "language": "python",
   "name": "python3"
  },
  "language_info": {
   "codemirror_mode": {
    "name": "ipython",
    "version": 3
   },
   "file_extension": ".py",
   "mimetype": "text/x-python",
   "name": "python",
   "nbconvert_exporter": "python",
   "pygments_lexer": "ipython3",
   "version": "3.7.3"
  }
 },
 "nbformat": 4,
 "nbformat_minor": 2
}
