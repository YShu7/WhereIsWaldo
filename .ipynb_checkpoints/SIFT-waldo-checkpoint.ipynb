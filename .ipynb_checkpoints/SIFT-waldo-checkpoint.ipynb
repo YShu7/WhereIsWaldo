{
 "cells": [
  {
   "cell_type": "markdown",
   "metadata": {},
   "source": [
    "### Import Packages"
   ]
  },
  {
   "cell_type": "code",
   "execution_count": 1,
   "metadata": {},
   "outputs": [],
   "source": [
    "from matplotlib import pyplot as plt\n",
    "import numpy as np\n",
    "import os.path as osp\n",
    "import pickle\n",
    "import scipy.misc"
   ]
  },
  {
   "cell_type": "markdown",
   "metadata": {},
   "source": [
    "#### Load training dataset"
   ]
  },
  {
   "cell_type": "code",
   "execution_count": 2,
   "metadata": {},
   "outputs": [
    {
     "ename": "ModuleNotFoundError",
     "evalue": "No module named 'cyvlfeat'",
     "output_type": "error",
     "traceback": [
      "\u001b[0;31m---------------------------------------------------------------------------\u001b[0m",
      "\u001b[0;31mModuleNotFoundError\u001b[0m                       Traceback (most recent call last)",
      "\u001b[0;32m<ipython-input-2-50ba1bb35009>\u001b[0m in \u001b[0;36m<module>\u001b[0;34m\u001b[0m\n\u001b[0;32m----> 1\u001b[0;31m \u001b[0;32mfrom\u001b[0m \u001b[0mimage_generator\u001b[0m \u001b[0;32mimport\u001b[0m \u001b[0mload_train_images\u001b[0m\u001b[0;34m\u001b[0m\u001b[0;34m\u001b[0m\u001b[0m\n\u001b[0m\u001b[1;32m      2\u001b[0m \u001b[0mtrain_images_waldo\u001b[0m \u001b[0;34m=\u001b[0m \u001b[0mload_train_images\u001b[0m\u001b[0;34m(\u001b[0m\u001b[0;34m'training_set/waldo'\u001b[0m\u001b[0;34m)\u001b[0m\u001b[0;34m\u001b[0m\u001b[0;34m\u001b[0m\u001b[0m\n\u001b[1;32m      3\u001b[0m \u001b[0mtrain_images_others\u001b[0m \u001b[0;34m=\u001b[0m \u001b[0mload_train_images\u001b[0m\u001b[0;34m(\u001b[0m\u001b[0;34m'training_set/others'\u001b[0m\u001b[0;34m)\u001b[0m\u001b[0;34m\u001b[0m\u001b[0;34m\u001b[0m\u001b[0m\n",
      "\u001b[0;32m~/Desktop/CS4243/CS4243-Project/image_generator.py\u001b[0m in \u001b[0;36m<module>\u001b[0;34m\u001b[0m\n\u001b[1;32m      6\u001b[0m \u001b[0;32mimport\u001b[0m \u001b[0mnumpy\u001b[0m \u001b[0;32mas\u001b[0m \u001b[0mnp\u001b[0m\u001b[0;34m\u001b[0m\u001b[0;34m\u001b[0m\u001b[0m\n\u001b[1;32m      7\u001b[0m \u001b[0;32mimport\u001b[0m \u001b[0mcv2\u001b[0m\u001b[0;34m\u001b[0m\u001b[0;34m\u001b[0m\u001b[0m\n\u001b[0;32m----> 8\u001b[0;31m \u001b[0;32mimport\u001b[0m \u001b[0mcyvlfeat\u001b[0m \u001b[0;32mas\u001b[0m \u001b[0mvlfeat\u001b[0m\u001b[0;34m\u001b[0m\u001b[0;34m\u001b[0m\u001b[0m\n\u001b[0m\u001b[1;32m      9\u001b[0m \u001b[0;32mimport\u001b[0m \u001b[0mpickle\u001b[0m\u001b[0;34m\u001b[0m\u001b[0;34m\u001b[0m\u001b[0m\n\u001b[1;32m     10\u001b[0m \u001b[0;34m\u001b[0m\u001b[0m\n",
      "\u001b[0;31mModuleNotFoundError\u001b[0m: No module named 'cyvlfeat'"
     ]
    }
   ],
   "source": [
    "from image_generator import load_train_images\n",
    "train_images_waldo = load_train_images('training_set/waldo')\n",
    "train_images_others = load_train_images('training_set/others')"
   ]
  },
  {
   "cell_type": "code",
   "execution_count": 3,
   "metadata": {},
   "outputs": [
    {
     "ename": "NameError",
     "evalue": "name 'train_images_waldo' is not defined",
     "output_type": "error",
     "traceback": [
      "\u001b[0;31m---------------------------------------------------------------------------\u001b[0m",
      "\u001b[0;31mNameError\u001b[0m                                 Traceback (most recent call last)",
      "\u001b[0;32m<ipython-input-3-a271c24473cb>\u001b[0m in \u001b[0;36m<module>\u001b[0;34m\u001b[0m\n\u001b[1;32m      1\u001b[0m \u001b[0mtraining_set\u001b[0m \u001b[0;34m=\u001b[0m \u001b[0;34m[\u001b[0m\u001b[0;34m]\u001b[0m\u001b[0;34m\u001b[0m\u001b[0;34m\u001b[0m\u001b[0m\n\u001b[0;32m----> 2\u001b[0;31m \u001b[0mtraining_set\u001b[0m\u001b[0;34m.\u001b[0m\u001b[0mextend\u001b[0m\u001b[0;34m(\u001b[0m\u001b[0mtrain_images_waldo\u001b[0m\u001b[0;34m)\u001b[0m\u001b[0;34m\u001b[0m\u001b[0;34m\u001b[0m\u001b[0m\n\u001b[0m\u001b[1;32m      3\u001b[0m \u001b[0mtraining_set\u001b[0m\u001b[0;34m.\u001b[0m\u001b[0mextend\u001b[0m\u001b[0;34m(\u001b[0m\u001b[0mtrain_images_others\u001b[0m\u001b[0;34m)\u001b[0m\u001b[0;34m\u001b[0m\u001b[0;34m\u001b[0m\u001b[0m\n",
      "\u001b[0;31mNameError\u001b[0m: name 'train_images_waldo' is not defined"
     ]
    }
   ],
   "source": [
    "training_set = []\n",
    "training_set.extend(train_images_waldo)\n",
    "training_set.extend(train_images_others)"
   ]
  },
  {
   "cell_type": "code",
   "execution_count": 4,
   "metadata": {
    "collapsed": true
   },
   "outputs": [],
   "source": [
    "train_labels = ['waldo'] * len(train_images_waldo)\n",
    "train_labels.extend(['wenda'] * len(train_images_wenda))\n",
    "train_labels.extend(['wizard'] * len(train_images_wizard))\n",
    "train_labels.extend(['others'] * len(train_images_others))"
   ]
  },
  {
   "cell_type": "markdown",
   "metadata": {},
   "source": [
    "### Generate Vocab"
   ]
  },
  {
   "cell_type": "code",
   "execution_count": 5,
   "metadata": {
    "collapsed": true
   },
   "outputs": [],
   "source": [
    "from image_generator import build_vocab\n",
    "vocab_filename = 'vocab.pkl'\n",
    "if not osp.isfile(vocab_filename):\n",
    "    print('No existing visual word vocabulary found. Computing one from training images')\n",
    "    vocab_size = 2000  # Larger values will work better (to a point) but be slower to compute\n",
    "    vocab = build_vocab(training_set, vocab_size)\n",
    "    \n",
    "    with open(vocab_filename, 'wb') as f:\n",
    "        pickle.dump(vocab, f)\n",
    "        print('{:s} saved'.format(vocab_filename))"
   ]
  },
  {
   "cell_type": "code",
   "execution_count": 5,
   "metadata": {
    "collapsed": true
   },
   "outputs": [],
   "source": [
    "from image_generator import build_vocab\n",
    "vocab_filename = 'vocab_sparse.pkl'\n",
    "if not osp.isfile(vocab_filename):\n",
    "    print('No existing visual word vocabulary found. Computing one from training images')\n",
    "    vocab_size = 200  # Larger values will work better (to a point) but be slower to compute\n",
    "    vocab = build_vocab(training_set, vocab_size)\n",
    "    \n",
    "    with open(vocab_filename, 'wb') as f:\n",
    "        pickle.dump(vocab, f)\n",
    "        print('{:s} saved'.format(vocab_filename))"
   ]
  },
  {
   "cell_type": "markdown",
   "metadata": {},
   "source": [
    "### Generate Feature"
   ]
  },
  {
   "cell_type": "code",
   "execution_count": 6,
   "metadata": {
    "collapsed": true
   },
   "outputs": [],
   "source": [
    "import time\n",
    "\n",
    "start_time = time.time()\n",
    "\n",
    "from image_generator import bags_of_sifts_spm\n",
    "%load_ext autoreload\n",
    "%autoreload 2\n",
    "train_image_feats = bags_of_sifts_spm(training_set, vocab_filename, 3)"
   ]
  },
  {
   "cell_type": "code",
   "execution_count": 7,
   "metadata": {
    "collapsed": true
   },
   "outputs": [],
   "source": [
    "from image_generator import get_images\n",
    "\n",
    "from image_generator import get_train_val\n",
    "train_image_ids, val_image_ids = get_train_val()\n",
    "val_images = get_images(val_image_ids)\n",
    "train_images = get_images(train_image_ids)"
   ]
  },
  {
   "cell_type": "code",
   "execution_count": 8,
   "metadata": {
    "collapsed": true
   },
   "outputs": [],
   "source": [
    "val_images_waldo = load_train_images('validation_set/waldo')\n",
    "val_images_wenda = load_train_images('validation_set/wenda')\n",
    "val_images_wizard = load_train_images('validation_set/wizard')\n",
    "val_images_others = load_train_images('validation_set/others')"
   ]
  },
  {
   "cell_type": "code",
   "execution_count": 9,
   "metadata": {
    "collapsed": true
   },
   "outputs": [],
   "source": [
    "val_images_all = []\n",
    "val_images_all.extend(val_images_waldo)\n",
    "val_images_all.extend(val_images_wenda)\n",
    "val_images_all.extend(val_images_wizard)\n",
    "val_images_all.extend(val_images_others)"
   ]
  },
  {
   "cell_type": "code",
   "execution_count": 10,
   "metadata": {
    "collapsed": true
   },
   "outputs": [],
   "source": [
    "val_labels = ['waldo'] * len(val_images_waldo)\n",
    "val_labels.extend(['wenda'] * len(val_images_wenda))\n",
    "val_labels.extend(['wizard'] * len(val_images_wizard))\n",
    "val_labels.extend(['others'] * len(val_images_others))"
   ]
  },
  {
   "cell_type": "code",
   "execution_count": 14,
   "metadata": {},
   "outputs": [
    {
     "ename": "ImportError",
     "evalue": "this version of pandas is incompatible with numpy < 1.13.3\nyour numpy version is 1.13.1.\nPlease upgrade numpy to >= 1.13.3 to use this pandas version",
     "output_type": "error",
     "traceback": [
      "\u001b[0;31m---------------------------------------------------------------------------\u001b[0m",
      "\u001b[0;31mImportError\u001b[0m                               Traceback (most recent call last)",
      "\u001b[0;32m<ipython-input-14-cb5214cf6b38>\u001b[0m in \u001b[0;36m<module>\u001b[0;34m()\u001b[0m\n\u001b[1;32m      1\u001b[0m \u001b[0;32mfrom\u001b[0m \u001b[0msklearn\u001b[0m\u001b[0;34m.\u001b[0m\u001b[0mmetrics\u001b[0m \u001b[0;32mimport\u001b[0m \u001b[0maccuracy_score\u001b[0m\u001b[0;34m,\u001b[0m \u001b[0mconfusion_matrix\u001b[0m\u001b[0;34m\u001b[0m\u001b[0;34m\u001b[0m\u001b[0m\n\u001b[1;32m      2\u001b[0m \u001b[0;32mimport\u001b[0m \u001b[0mmatplotlib\u001b[0m\u001b[0;34m.\u001b[0m\u001b[0mpyplot\u001b[0m \u001b[0;32mas\u001b[0m \u001b[0mplt\u001b[0m\u001b[0;34m\u001b[0m\u001b[0;34m\u001b[0m\u001b[0m\n\u001b[0;32m----> 3\u001b[0;31m \u001b[0;32mimport\u001b[0m \u001b[0mseaborn\u001b[0m \u001b[0;32mas\u001b[0m \u001b[0msns\u001b[0m\u001b[0;34m\u001b[0m\u001b[0;34m\u001b[0m\u001b[0m\n\u001b[0m\u001b[1;32m      4\u001b[0m \u001b[0;34m\u001b[0m\u001b[0m\n\u001b[1;32m      5\u001b[0m \u001b[0;32mdef\u001b[0m \u001b[0mcolorConfusionMatrix\u001b[0m\u001b[0;34m(\u001b[0m\u001b[0my_valid\u001b[0m\u001b[0;34m,\u001b[0m \u001b[0my_pred_valid\u001b[0m\u001b[0;34m)\u001b[0m\u001b[0;34m:\u001b[0m\u001b[0;34m\u001b[0m\u001b[0;34m\u001b[0m\u001b[0m\n",
      "\u001b[0;32m~/anaconda3/envs/cs4243-proj/lib/python3.6/site-packages/seaborn/__init__.py\u001b[0m in \u001b[0;36m<module>\u001b[0;34m()\u001b[0m\n\u001b[1;32m      4\u001b[0m \u001b[0;34m\u001b[0m\u001b[0m\n\u001b[1;32m      5\u001b[0m \u001b[0;31m# Import seaborn objects\u001b[0m\u001b[0;34m\u001b[0m\u001b[0;34m\u001b[0m\u001b[0;34m\u001b[0m\u001b[0m\n\u001b[0;32m----> 6\u001b[0;31m \u001b[0;32mfrom\u001b[0m \u001b[0;34m.\u001b[0m\u001b[0mrcmod\u001b[0m \u001b[0;32mimport\u001b[0m \u001b[0;34m*\u001b[0m\u001b[0;34m\u001b[0m\u001b[0;34m\u001b[0m\u001b[0m\n\u001b[0m\u001b[1;32m      7\u001b[0m \u001b[0;32mfrom\u001b[0m \u001b[0;34m.\u001b[0m\u001b[0mutils\u001b[0m \u001b[0;32mimport\u001b[0m \u001b[0;34m*\u001b[0m\u001b[0;34m\u001b[0m\u001b[0;34m\u001b[0m\u001b[0m\n\u001b[1;32m      8\u001b[0m \u001b[0;32mfrom\u001b[0m \u001b[0;34m.\u001b[0m\u001b[0mpalettes\u001b[0m \u001b[0;32mimport\u001b[0m \u001b[0;34m*\u001b[0m\u001b[0;34m\u001b[0m\u001b[0;34m\u001b[0m\u001b[0m\n",
      "\u001b[0;32m~/anaconda3/envs/cs4243-proj/lib/python3.6/site-packages/seaborn/rcmod.py\u001b[0m in \u001b[0;36m<module>\u001b[0;34m()\u001b[0m\n\u001b[1;32m      3\u001b[0m \u001b[0;32mimport\u001b[0m \u001b[0mfunctools\u001b[0m\u001b[0;34m\u001b[0m\u001b[0;34m\u001b[0m\u001b[0m\n\u001b[1;32m      4\u001b[0m \u001b[0;32mimport\u001b[0m \u001b[0mmatplotlib\u001b[0m \u001b[0;32mas\u001b[0m \u001b[0mmpl\u001b[0m\u001b[0;34m\u001b[0m\u001b[0;34m\u001b[0m\u001b[0m\n\u001b[0;32m----> 5\u001b[0;31m \u001b[0;32mfrom\u001b[0m \u001b[0;34m.\u001b[0m \u001b[0;32mimport\u001b[0m \u001b[0mpalettes\u001b[0m\u001b[0;34m,\u001b[0m \u001b[0m_orig_rc_params\u001b[0m\u001b[0;34m\u001b[0m\u001b[0;34m\u001b[0m\u001b[0m\n\u001b[0m\u001b[1;32m      6\u001b[0m \u001b[0;34m\u001b[0m\u001b[0m\n\u001b[1;32m      7\u001b[0m \u001b[0;34m\u001b[0m\u001b[0m\n",
      "\u001b[0;32m~/anaconda3/envs/cs4243-proj/lib/python3.6/site-packages/seaborn/palettes.py\u001b[0m in \u001b[0;36m<module>\u001b[0;34m()\u001b[0m\n\u001b[1;32m     10\u001b[0m \u001b[0;32mfrom\u001b[0m \u001b[0;34m.\u001b[0m\u001b[0mexternal\u001b[0m\u001b[0;34m.\u001b[0m\u001b[0msix\u001b[0m\u001b[0;34m.\u001b[0m\u001b[0mmoves\u001b[0m \u001b[0;32mimport\u001b[0m \u001b[0mrange\u001b[0m\u001b[0;34m\u001b[0m\u001b[0;34m\u001b[0m\u001b[0m\n\u001b[1;32m     11\u001b[0m \u001b[0;34m\u001b[0m\u001b[0m\n\u001b[0;32m---> 12\u001b[0;31m \u001b[0;32mfrom\u001b[0m \u001b[0;34m.\u001b[0m\u001b[0mutils\u001b[0m \u001b[0;32mimport\u001b[0m \u001b[0mdesaturate\u001b[0m\u001b[0;34m,\u001b[0m \u001b[0mset_hls_values\u001b[0m\u001b[0;34m,\u001b[0m \u001b[0mget_color_cycle\u001b[0m\u001b[0;34m\u001b[0m\u001b[0;34m\u001b[0m\u001b[0m\n\u001b[0m\u001b[1;32m     13\u001b[0m \u001b[0;32mfrom\u001b[0m \u001b[0;34m.\u001b[0m\u001b[0mcolors\u001b[0m \u001b[0;32mimport\u001b[0m \u001b[0mxkcd_rgb\u001b[0m\u001b[0;34m,\u001b[0m \u001b[0mcrayons\u001b[0m\u001b[0;34m\u001b[0m\u001b[0;34m\u001b[0m\u001b[0m\n\u001b[1;32m     14\u001b[0m \u001b[0;34m\u001b[0m\u001b[0m\n",
      "\u001b[0;32m~/anaconda3/envs/cs4243-proj/lib/python3.6/site-packages/seaborn/utils.py\u001b[0m in \u001b[0;36m<module>\u001b[0;34m()\u001b[0m\n\u001b[1;32m      6\u001b[0m \u001b[0;32mimport\u001b[0m \u001b[0mnumpy\u001b[0m \u001b[0;32mas\u001b[0m \u001b[0mnp\u001b[0m\u001b[0;34m\u001b[0m\u001b[0;34m\u001b[0m\u001b[0m\n\u001b[1;32m      7\u001b[0m \u001b[0;32mfrom\u001b[0m \u001b[0mscipy\u001b[0m \u001b[0;32mimport\u001b[0m \u001b[0mstats\u001b[0m\u001b[0;34m\u001b[0m\u001b[0;34m\u001b[0m\u001b[0m\n\u001b[0;32m----> 8\u001b[0;31m \u001b[0;32mimport\u001b[0m \u001b[0mpandas\u001b[0m \u001b[0;32mas\u001b[0m \u001b[0mpd\u001b[0m\u001b[0;34m\u001b[0m\u001b[0;34m\u001b[0m\u001b[0m\n\u001b[0m\u001b[1;32m      9\u001b[0m \u001b[0;32mimport\u001b[0m \u001b[0mmatplotlib\u001b[0m \u001b[0;32mas\u001b[0m \u001b[0mmpl\u001b[0m\u001b[0;34m\u001b[0m\u001b[0;34m\u001b[0m\u001b[0m\n\u001b[1;32m     10\u001b[0m \u001b[0;32mimport\u001b[0m \u001b[0mmatplotlib\u001b[0m\u001b[0;34m.\u001b[0m\u001b[0mcolors\u001b[0m \u001b[0;32mas\u001b[0m \u001b[0mmplcol\u001b[0m\u001b[0;34m\u001b[0m\u001b[0;34m\u001b[0m\u001b[0m\n",
      "\u001b[0;32m~/anaconda3/envs/cs4243-proj/lib/python3.6/site-packages/pandas/__init__.py\u001b[0m in \u001b[0;36m<module>\u001b[0;34m()\u001b[0m\n\u001b[1;32m     20\u001b[0m \u001b[0;34m\u001b[0m\u001b[0m\n\u001b[1;32m     21\u001b[0m \u001b[0;31m# numpy compat\u001b[0m\u001b[0;34m\u001b[0m\u001b[0;34m\u001b[0m\u001b[0;34m\u001b[0m\u001b[0m\n\u001b[0;32m---> 22\u001b[0;31m from pandas.compat.numpy import (\n\u001b[0m\u001b[1;32m     23\u001b[0m     \u001b[0m_np_version_under1p14\u001b[0m\u001b[0;34m,\u001b[0m\u001b[0;34m\u001b[0m\u001b[0;34m\u001b[0m\u001b[0m\n\u001b[1;32m     24\u001b[0m     \u001b[0m_np_version_under1p15\u001b[0m\u001b[0;34m,\u001b[0m\u001b[0;34m\u001b[0m\u001b[0;34m\u001b[0m\u001b[0m\n",
      "\u001b[0;32m~/anaconda3/envs/cs4243-proj/lib/python3.6/site-packages/pandas/compat/numpy/__init__.py\u001b[0m in \u001b[0;36m<module>\u001b[0;34m()\u001b[0m\n\u001b[1;32m     23\u001b[0m         \u001b[0;34m\"your numpy version is {0}.\\n\"\u001b[0m\u001b[0;34m\u001b[0m\u001b[0;34m\u001b[0m\u001b[0m\n\u001b[1;32m     24\u001b[0m         \u001b[0;34m\"Please upgrade numpy to >= 1.13.3 to use \"\u001b[0m\u001b[0;34m\u001b[0m\u001b[0;34m\u001b[0m\u001b[0m\n\u001b[0;32m---> 25\u001b[0;31m         \u001b[0;34m\"this pandas version\"\u001b[0m\u001b[0;34m.\u001b[0m\u001b[0mformat\u001b[0m\u001b[0;34m(\u001b[0m\u001b[0m_np_version\u001b[0m\u001b[0;34m)\u001b[0m\u001b[0;34m\u001b[0m\u001b[0;34m\u001b[0m\u001b[0m\n\u001b[0m\u001b[1;32m     26\u001b[0m     )\n\u001b[1;32m     27\u001b[0m \u001b[0;34m\u001b[0m\u001b[0m\n",
      "\u001b[0;31mImportError\u001b[0m: this version of pandas is incompatible with numpy < 1.13.3\nyour numpy version is 1.13.1.\nPlease upgrade numpy to >= 1.13.3 to use this pandas version"
     ]
    }
   ],
   "source": [
    "from sklearn.metrics import accuracy_score, confusion_matrix\n",
    "import matplotlib.pyplot as plt\n",
    "import seaborn as sns\n",
    "\n",
    "def colorConfusionMatrix(y_valid, y_pred_valid):\n",
    "    cm = confusion_matrix(y_valid, y_pred_valid)\n",
    "    df_cm = pd.DataFrame(cm, ['waldo', 'wenda', 'wizard', 'others'],\n",
    "                        ['waldo', 'wenda', 'wizard', 'others'])\n",
    "    plt.rcParams[\"figure.figsize\"] = (5,5) # set the size of the image\n",
    "    ax = plt.axes()\n",
    "    sns.heatmap(df_cm, annot=True, fmt='g',square=True)\n",
    "    ax.set_title(\"Confusion Matrix\")\n",
    "    ax.set_ylabel('Actual')  \n",
    "    ax.set_xlabel('Predicted')  \n",
    "    plt.show()"
   ]
  },
  {
   "cell_type": "markdown",
   "metadata": {},
   "source": [
    "### KNN"
   ]
  },
  {
   "cell_type": "code",
   "execution_count": 69,
   "metadata": {},
   "outputs": [
    {
     "data": {
      "text/plain": [
       "KNeighborsClassifier(algorithm='auto', leaf_size=30, metric='minkowski',\n",
       "                     metric_params=None, n_jobs=None, n_neighbors=1, p=2,\n",
       "                     weights='uniform')"
      ]
     },
     "execution_count": 69,
     "metadata": {},
     "output_type": "execute_result"
    }
   ],
   "source": [
    "from sklearn.neighbors import KNeighborsClassifier\n",
    "model = KNeighborsClassifier(n_neighbors=1)\n",
    "model.fit(train_image_feats, train_labels)"
   ]
  },
  {
   "cell_type": "code",
   "execution_count": 87,
   "metadata": {},
   "outputs": [
    {
     "name": "stdout",
     "output_type": "stream",
     "text": [
      "0.5965909090909091\n"
     ]
    }
   ],
   "source": [
    "val_image_feats = bags_of_sifts_spm(val_images_all, vocab_filename, 3)\n",
    "y_pred = model.predict(val_image_feats)\n",
    "\n",
    "print(accuracy_score(val_labels, y_pred))\n",
    "colorConfusionMatrix(val_labels, y_pred)"
   ]
  },
  {
   "cell_type": "code",
   "execution_count": 75,
   "metadata": {},
   "outputs": [
    {
     "name": "stdout",
     "output_type": "stream",
     "text": [
      "0.85\n"
     ]
    }
   ],
   "source": [
    "val_image_feats = bags_of_sifts_spm(val_images_others, vocab_filename, 3)\n",
    "y_pred = model.predict(val_image_feats)\n",
    "y_score = model.score(val_image_feats, y_pred)\n",
    "neighbours = model.kneighbors(val_image_feats, return_distance=True) \n",
    "\n",
    "num = 0\n",
    "\n",
    "for i, dist in enumerate(neighbours[0]):\n",
    "    if train_labels[neighbours[1][i][0]] == 'others':\n",
    "        num += 1\n",
    "\n",
    "print(num / len(y_pred))"
   ]
  },
  {
   "cell_type": "markdown",
   "metadata": {},
   "source": [
    "#### SVM"
   ]
  },
  {
   "cell_type": "code",
   "execution_count": 13,
   "metadata": {},
   "outputs": [
    {
     "data": {
      "text/plain": [
       "SVC(C=1.0, cache_size=200, class_weight=None, coef0=0.0,\n",
       "    decision_function_shape='ovo', degree=3, gamma='scale', kernel='linear',\n",
       "    max_iter=-1, probability=True, random_state=None, shrinking=True, tol=0.001,\n",
       "    verbose=False)"
      ]
     },
     "execution_count": 13,
     "metadata": {},
     "output_type": "execute_result"
    }
   ],
   "source": [
    "from sklearn.svm import SVC\n",
    "svm = SVC(gamma=\"scale\", decision_function_shape='ovo', probability=True, kernel=\"linear\")\n",
    "svm.fit(train_image_feats, train_labels)"
   ]
  },
  {
   "cell_type": "code",
   "execution_count": 14,
   "metadata": {},
   "outputs": [
    {
     "name": "stdout",
     "output_type": "stream",
     "text": [
      "0.7727272727272727\n",
      "202.83906507492065\n"
     ]
    }
   ],
   "source": [
    "val_image_feats = bags_of_sifts_spm(val_images_all, vocab_filename, 3)\n",
    "y_pred = svm.predict(val_image_feats)\n",
    "\n",
    "num = 0\n",
    "for i, y in enumerate(y_pred):\n",
    "    if y == val_labels[i]:\n",
    "        num += 1\n",
    "\n",
    "print(num / len(y_pred))\n",
    "print(time.time()-start_time)"
   ]
  },
  {
   "cell_type": "code",
   "execution_count": 20,
   "metadata": {},
   "outputs": [
    {
     "name": "stdout",
     "output_type": "stream",
     "text": [
      "0.3333333333333333\n",
      "386.86774706840515\n"
     ]
    }
   ],
   "source": [
    "val_image_feats = bags_of_sifts_spm(val_images_wizard, vocab_filename, 3)\n",
    "y_pred = svm.predict(val_image_feats)\n",
    "\n",
    "num = 0\n",
    "for i, y in enumerate(y_pred):\n",
    "    if y == \"wizard\":\n",
    "        num += 1\n",
    "\n",
    "print(num / len(y_pred))\n",
    "print(time.time()-start_time)"
   ]
  },
  {
   "cell_type": "code",
   "execution_count": 16,
   "metadata": {},
   "outputs": [
    {
     "name": "stdout",
     "output_type": "stream",
     "text": [
      "0.8571428571428571\n",
      "297.4341650009155\n"
     ]
    }
   ],
   "source": [
    "val_image_feats = bags_of_sifts_spm(val_images_wenda, vocab_filename, 3)\n",
    "y_pred = svm.predict(val_image_feats)\n",
    "\n",
    "num = 0\n",
    "for i, y in enumerate(y_pred):\n",
    "    if y == \"wenda\":\n",
    "        num += 1\n",
    "\n",
    "print(num / len(y_pred))\n",
    "print(time.time()-start_time)"
   ]
  },
  {
   "cell_type": "code",
   "execution_count": 21,
   "metadata": {},
   "outputs": [
    {
     "name": "stdout",
     "output_type": "stream",
     "text": [
      "0.8023255813953488\n",
      "410.24240708351135\n"
     ]
    }
   ],
   "source": [
    "val_image_feats = bags_of_sifts_spm(val_images_waldo, vocab_filename, 3)\n",
    "y_pred = svm.predict(val_image_feats)\n",
    "\n",
    "num = 0\n",
    "for i, y in enumerate(y_pred):\n",
    "    if y == \"waldo\":\n",
    "        num += 1\n",
    "\n",
    "print(num / len(y_pred))\n",
    "print(time.time()-start_time)"
   ]
  },
  {
   "cell_type": "code",
   "execution_count": 18,
   "metadata": {},
   "outputs": [
    {
     "name": "stdout",
     "output_type": "stream",
     "text": [
      "0.75\n",
      "335.8213312625885\n"
     ]
    }
   ],
   "source": [
    "val_image_feats = bags_of_sifts_spm(val_images_others, vocab_filename, 3)\n",
    "y_pred = svm.predict(val_image_feats)\n",
    "\n",
    "num = 0\n",
    "for i, y in enumerate(y_pred):\n",
    "    if y == \"others\":\n",
    "        num += 1\n",
    "\n",
    "print(num / len(y_pred))\n",
    "print(time.time()-start_time)"
   ]
  },
  {
   "cell_type": "code",
   "execution_count": null,
   "metadata": {
    "collapsed": true
   },
   "outputs": [],
   "source": [
    "\"\"\"\n",
    "def crop(image, faces, k=0):\n",
    "    faces_arrays = []\n",
    "    for (x, y, w, h)in faces:\n",
    "        # crop the region of interest over a copy \n",
    "        face = image[y:y+h, x:x+w].copy()\n",
    "        faces_arrays.append(face)\n",
    "        # comment the two following lines if you want to stop saving the crops\n",
    "        # cv2.imwrite('/faces/face'+str(k)+'.jpg', face)\n",
    "        # k += 1\n",
    "    return faces_arrays\n",
    "\"\"\""
   ]
  },
  {
   "cell_type": "code",
   "execution_count": null,
   "metadata": {
    "collapsed": true
   },
   "outputs": [],
   "source": [
    "\"\"\"\n",
    "for t, img in enumerate(train_images):\n",
    "    for id in range(10):\n",
    "        h = np.random.randint(30, img.shape[1]/20)\n",
    "        x = np.random.randint(img.shape[0]-h*3)\n",
    "        y = np.random.randint(img.shape[1]-h)\n",
    "        scipy.misc.imsave('training_set/others/{}.jpg'.format(t*10 + id), img[x:x+h*3, y:y+h])\n",
    "\"\"\""
   ]
  },
  {
   "cell_type": "markdown",
   "metadata": {},
   "source": [
    "### Generate training dataset"
   ]
  },
  {
   "cell_type": "code",
   "execution_count": null,
   "metadata": {
    "collapsed": true
   },
   "outputs": [],
   "source": [
    "#from image_generator import generate_train_images\n",
    "#train_images_faces = generate_train_images()\n",
    "#for target in train_images_faces:\n",
    " #   for id, img in enumerate(train_images_faces[target]):\n",
    "  #      scipy.misc.imsave('training_set/{}/{}.jpg'.format(target, id), img)"
   ]
  },
  {
   "cell_type": "code",
   "execution_count": null,
   "metadata": {
    "collapsed": true
   },
   "outputs": [],
   "source": [
    "#for target in train_images_faces:\n",
    " #   for id, img in enumerate(train_images_faces[target]):\n",
    "  #      scipy.misc.imsave('training_set/{}/{}.jpg'.format(target, id), img)"
   ]
  },
  {
   "cell_type": "markdown",
   "metadata": {},
   "source": [
    "### Detector"
   ]
  },
  {
   "cell_type": "code",
   "execution_count": null,
   "metadata": {
    "collapsed": true
   },
   "outputs": [],
   "source": [
    "\"\"\"\n",
    "def crop(image, faces, k=0):\n",
    "    \n",
    "    This function crops the initial image into faces' images seperately. \n",
    "    Arguments:\n",
    "        image  (np array image)\n",
    "        faces (list of tuples)\n",
    "    \n",
    "    faces_arrays = []\n",
    "    for (x, y, w, h)in faces:\n",
    "        # crop the region of interest over a copy \n",
    "        face = image[y:y+h, x:x+w].copy()\n",
    "        faces_arrays.append(face)\n",
    "        # comment the two following lines if you want to stop saving the crops\n",
    "        # cv2.imwrite('/faces/face'+str(k)+'.jpg', face)\n",
    "        # k += 1\n",
    "    return faces_arrays\n",
    "\"\"\""
   ]
  },
  {
   "cell_type": "code",
   "execution_count": null,
   "metadata": {
    "collapsed": true
   },
   "outputs": [],
   "source": [
    "\"\"\"\n",
    "import cv2\n",
    "faceCascade = cv2.CascadeClassifier('haarcascade_frontalface_default.xml')\n",
    "\n",
    "detected_faces = {}\n",
    "for gray, id in zip(val_images, val_image_ids):\n",
    "\n",
    "    faces = faceCascade.detectMultiScale(\n",
    "        gray,\n",
    "        scaleFactor=1.1,\n",
    "        minNeighbors=5,\n",
    "        minSize=(30, 30),\n",
    "        flags = cv2.CASCADE_SCALE_IMAGE\n",
    "    )\n",
    "    print(\"Found {0} faces!\".format(len(faces)))\n",
    "    detected_faces[id] = crop(gray, faces)\n",
    "    \"\"\""
   ]
  },
  {
   "cell_type": "code",
   "execution_count": null,
   "metadata": {
    "collapsed": true
   },
   "outputs": [],
   "source": [
    "\"\"\"\n",
    "with open(\"waldo.txt\", \"w\") as waldo_text:\n",
    "    with open(\"wenda.txt\", \"w\") as wenda_text:\n",
    "        with open(\"wizard.txt\", \"w\") as wizard_text:\n",
    "            for image, id in zip(val_images, val_image_ids): \n",
    "                step = image.shape[0] // 30\n",
    "                h, w = image.shape\n",
    "                for h_i in range(0, h, step//6):\n",
    "                    for w_i in range(0, w, step//6):\n",
    "                        y_min = h_i\n",
    "                        y_max = min(h_i+step, h)\n",
    "                        x_min = w_i\n",
    "                        x_max = min(w_i+step, w)\n",
    "                        sub_img = image[y_min:y_max, x_min: x_max]\n",
    "\n",
    "                        val_image_feats = bags_of_sifts_spm([sub_img], vocab_filename, 3)\n",
    "                        y_pred = svm.predict(val_image_feats)\n",
    "                        y_score = svm.score(val_image_feats, y_pred)\n",
    "                        \n",
    "                        if y_min >= 410 and y_min <= 430:\n",
    "                            print(y_pred, y_score)\n",
    "                        if y_pred == 'waldo':\n",
    "                            waldo_text.write(\"{0} {1} {2} {3} {4} {5}\\n\".format(id, y_score, x_min, y_min, x_max, y_max))\n",
    "                        if y_pred == 'wenda':\n",
    "                            wenda_text.write(\"{0} {1} {2} {3} {4} {5}\\n\".format(id, y_score, x_min, y_min, x_max, y_max))\n",
    "                        if y_pred == 'wizard':\n",
    "                            wizard_text.write(\"{0} {1} {2} {3} {4} {5}\\n\".format(id, y_score, x_min, y_min, x_max, y_max))\n",
    "\"\"\""
   ]
  }
 ],
 "metadata": {
  "kernelspec": {
   "display_name": "Python 3",
   "language": "python",
   "name": "python3"
  },
  "language_info": {
   "codemirror_mode": {
    "name": "ipython",
    "version": 3
   },
   "file_extension": ".py",
   "mimetype": "text/x-python",
   "name": "python",
   "nbconvert_exporter": "python",
   "pygments_lexer": "ipython3",
   "version": "3.7.3"
  }
 },
 "nbformat": 4,
 "nbformat_minor": 2
}
