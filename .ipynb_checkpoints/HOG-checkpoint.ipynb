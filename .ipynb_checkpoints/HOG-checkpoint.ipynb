{
 "cells": [
  {
   "cell_type": "code",
   "execution_count": 3,
   "metadata": {},
   "outputs": [],
   "source": [
    "from image_generator import load_train_images\n",
    "train_images_waldo = load_train_images('training_set/waldo')\n",
    "train_images_wenda = load_train_images('training_set/wenda')\n",
    "train_images_wizard = load_train_images('training_set/wizard')"
   ]
  },
  {
   "cell_type": "code",
   "execution_count": 4,
   "metadata": {
    "collapsed": true
   },
   "outputs": [],
   "source": [
    "training_set = []\n",
    "training_set.extend(train_images_waldo)\n",
    "training_set.extend(train_images_wenda)\n",
    "training_set.extend(train_images_wizard)"
   ]
  },
  {
   "cell_type": "code",
   "execution_count": 5,
   "metadata": {
    "collapsed": true
   },
   "outputs": [],
   "source": [
    "train_labels = ['waldo'] * len(train_images_waldo)\n",
    "train_labels.extend(['wenda'] * len(train_images_wenda))\n",
    "train_labels.extend(['wizard'] * len(train_images_wizard))"
   ]
  },
  {
   "cell_type": "markdown",
   "metadata": {},
   "source": [
    "#### Hog Template"
   ]
  },
  {
   "cell_type": "code",
   "execution_count": 11,
   "metadata": {},
   "outputs": [
    {
     "name": "stdout",
     "output_type": "stream",
     "text": [
      "Collecting imutils\n",
      "Installing collected packages: imutils\n",
      "Successfully installed imutils-0.5.3\n"
     ]
    }
   ],
   "source": [
    "from sklearn.neighbors import KNeighborsClassifier\n",
    "from skimage import exposure\n",
    "from skimage import feature\n",
    "from imutils import paths\n",
    "import argparse\n",
    "import imutils\n",
    "import cv2"
   ]
  },
  {
   "cell_type": "code",
   "execution_count": 12,
   "metadata": {},
   "outputs": [
    {
     "name": "stderr",
     "output_type": "stream",
     "text": [
      "/Users/ysq/anaconda3/envs/cs4243-lab3/lib/python3.6/site-packages/skimage/feature/_hog.py:119: skimage_deprecation: Default value of `block_norm`==`L1` is deprecated and will be changed to `L2-Hys` in v0.15\n",
      "  'be changed to `L2-Hys` in v0.15', skimage_deprecation)\n"
     ]
    }
   ],
   "source": [
    "import matplotlib.pyplot as plt\n",
    "import matplotlib.image as mpimg\n",
    "import cv2\n",
    "\n",
    "from skimage.feature import hog\n",
    "from skimage import data, exposure\n",
    "\n",
    "data = []\n",
    "labels = []\n",
    "\n",
    "for label, gray in zip(train_labels, training_set):\n",
    "    edged = imutils.auto_canny(gray)\n",
    " \n",
    "    # find contours in the edge map, keeping only the largest one which\n",
    "    # is presmumed to be the car logo\n",
    "    cnts = cv2.findContours(edged.copy(), cv2.RETR_EXTERNAL, cv2.CHAIN_APPROX_SIMPLE)\n",
    "    cnts = imutils.grab_contours(cnts)\n",
    "    c = max(cnts, key=cv2.contourArea)\n",
    " \n",
    "    # extract the logo of the car and resize it to a canonical width\n",
    "    # and height\n",
    "    (x, y, w, h) = cv2.boundingRect(c)\n",
    "    logo = gray[y:y + h, x:x + w]\n",
    "    logo = cv2.resize(logo, (200, 100))\n",
    " \n",
    "    # extract Histogram of Oriented Gradients from the logo\n",
    "    H = feature.hog(logo, orientations=9, pixels_per_cell=(10, 10),\n",
    "        cells_per_block=(2, 2), transform_sqrt=True, block_norm=\"L1\")\n",
    " \n",
    "    # update the data and labels\n",
    "    data.append(H)\n",
    "    labels.append(label)"
   ]
  },
  {
   "cell_type": "code",
   "execution_count": 13,
   "metadata": {},
   "outputs": [
    {
     "name": "stdout",
     "output_type": "stream",
     "text": [
      "[INFO] training classifier...\n",
      "[INFO] evaluating...\n"
     ]
    }
   ],
   "source": [
    "# \"train\" the nearest neighbors classifier\n",
    "print(\"[INFO] training classifier...\")\n",
    "model = KNeighborsClassifier(n_neighbors=1)\n",
    "model.fit(data, labels)\n",
    "print(\"[INFO] evaluating...\")"
   ]
  },
  {
   "cell_type": "markdown",
   "metadata": {},
   "source": [
    "#### Feature Map"
   ]
  },
  {
   "cell_type": "code",
   "execution_count": 18,
   "metadata": {
    "collapsed": true
   },
   "outputs": [],
   "source": [
    "val_images_waldo = load_train_images('validation_set/waldo')\n",
    "val_images_wenda = load_train_images('validation_set/wenda')\n",
    "val_images_wizard = load_train_images('validation_set/wizard')\n",
    "val_images_others = load_train_images('validation_set/others')"
   ]
  },
  {
   "cell_type": "code",
   "execution_count": 19,
   "metadata": {},
   "outputs": [
    {
     "name": "stdout",
     "output_type": "stream",
     "text": [
      "0.8\n"
     ]
    }
   ],
   "source": [
    "import numpy as np\n",
    "\n",
    "correct_waldo = 0\n",
    "# loop over the test dataset\n",
    "for chunk in val_images_waldo: \n",
    "    logo = cv2.resize(chunk, (200, 100))\n",
    "\n",
    "    # extract Histogram of Oriented Gradients from the test image and\n",
    "    # predict the make of the car\n",
    "    (H, hogImage) = feature.hog(logo, orientations=9, pixels_per_cell=(10, 10),\n",
    "        cells_per_block=(2, 2), transform_sqrt=True, block_norm=\"L2-Hys\", visualise=True)\n",
    "    pred = model.predict(H.reshape(1, -1))[0]\n",
    "    score = model.score(H.reshape(1, -1), [pred])\n",
    "\n",
    "    #print(pred, score)\n",
    "    #plt.imshow(logo)\n",
    "    #plt.show()\n",
    "\n",
    "    if pred == 'waldo':\n",
    "        correct_waldo += 1\n",
    "    \n",
    "print(correct_waldo / len(train_images_waldo))"
   ]
  },
  {
   "cell_type": "code",
   "execution_count": 20,
   "metadata": {},
   "outputs": [
    {
     "name": "stdout",
     "output_type": "stream",
     "text": [
      "wizard 1.0\n",
      "wizard 1.0\n",
      "waldo 1.0\n",
      "waldo 1.0\n",
      "waldo 1.0\n",
      "wenda 1.0\n",
      "wenda 1.0\n",
      "0.05555555555555555\n"
     ]
    }
   ],
   "source": [
    "import numpy as np\n",
    "\n",
    "correct_wenda = 0\n",
    "# loop over the test dataset\n",
    "for chunk in val_images_wenda: \n",
    "    logo = cv2.resize(chunk, (200, 100))\n",
    "\n",
    "    # extract Histogram of Oriented Gradients from the test image and\n",
    "    # predict the make of the car\n",
    "    (H, hogImage) = feature.hog(logo, orientations=9, pixels_per_cell=(10, 10),\n",
    "        cells_per_block=(2, 2), transform_sqrt=True, block_norm=\"L2-Hys\", visualise=True)\n",
    "    pred = model.predict(H.reshape(1, -1))[0]\n",
    "    score = model.score(H.reshape(1, -1), [pred])\n",
    "\n",
    "    print(pred, score)\n",
    "    #plt.imshow(logo)\n",
    "    #plt.show()\n",
    "\n",
    "    if pred == 'wenda':\n",
    "        correct_wenda += 1\n",
    "    \n",
    "print(correct_wenda / len(train_images_wenda))"
   ]
  },
  {
   "cell_type": "code",
   "execution_count": 21,
   "metadata": {},
   "outputs": [
    {
     "name": "stdout",
     "output_type": "stream",
     "text": [
      "0.041666666666666664\n"
     ]
    }
   ],
   "source": [
    "import numpy as np\n",
    "\n",
    "correct_wizard = 0\n",
    "# loop over the test dataset\n",
    "for chunk in val_images_wizard: \n",
    "    logo = cv2.resize(chunk, (200, 100))\n",
    "\n",
    "    # extract Histogram of Oriented Gradients from the test image and\n",
    "    # predict the make of the car\n",
    "    (H, hogImage) = feature.hog(logo, orientations=9, pixels_per_cell=(10, 10),\n",
    "        cells_per_block=(2, 2), transform_sqrt=True, block_norm=\"L2-Hys\", visualise=True)\n",
    "    pred = model.predict(H.reshape(1, -1))[0]\n",
    "    score = model.score(H.reshape(1, -1), [pred])\n",
    "\n",
    "    #print(pred, score)\n",
    "    #plt.imshow(logo)\n",
    "    #plt.show()\n",
    "\n",
    "    if pred == 'wizard':\n",
    "        correct_wizard += 1\n",
    "    \n",
    "print(correct_wizard / len(train_images_wizard))"
   ]
  },
  {
   "cell_type": "code",
   "execution_count": null,
   "metadata": {
    "collapsed": true
   },
   "outputs": [],
   "source": [
    "import numpy as np\n",
    "\n",
    "correct_wizard = 0\n",
    "# loop over the test dataset\n",
    "for chunk in val_images_others: \n",
    "    logo = cv2.resize(chunk, (200, 100))\n",
    "\n",
    "    # extract Histogram of Oriented Gradients from the test image and\n",
    "    # predict the make of the car\n",
    "    (H, hogImage) = feature.hog(logo, orientations=9, pixels_per_cell=(10, 10),\n",
    "        cells_per_block=(2, 2), transform_sqrt=True, block_norm=\"L2-Hys\", visualise=True)\n",
    "    pred = model.predict(H.reshape(1, -1))[0]\n",
    "    score = model.score(H.reshape(1, -1), [pred])\n",
    "\n",
    "    #print(pred, score)\n",
    "    #plt.imshow(logo)\n",
    "    #plt.show()\n",
    "\n",
    "    if pred == 'wizard':\n",
    "        correct_wizard += 1\n",
    "    \n",
    "print(correct_wizard / len(train_images_wizard))"
   ]
  }
 ],
 "metadata": {
  "kernelspec": {
   "display_name": "Python 3",
   "language": "python",
   "name": "python3"
  },
  "language_info": {
   "codemirror_mode": {
    "name": "ipython",
    "version": 3
   },
   "file_extension": ".py",
   "mimetype": "text/x-python",
   "name": "python",
   "nbconvert_exporter": "python",
   "pygments_lexer": "ipython3",
   "version": "3.6.9"
  }
 },
 "nbformat": 4,
 "nbformat_minor": 2
}
