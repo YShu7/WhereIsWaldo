{
 "cells": [
  {
   "cell_type": "code",
   "execution_count": 46,
   "metadata": {},
   "outputs": [
    {
     "data": {
      "image/png": "[encoded data removed]",
      "text/plain": [
       "<Figure size 1440x1440 with 1 Axes>"
      ]
     },
     "metadata": {
      "needs_background": "light"
     },
     "output_type": "display_data"
    }
   ],
   "source": [
    "from utils import test_image\n",
    "\n",
    "waldo, wenda, wizard = test_image('018', 'baseline')"
   ]
  },
  {
   "cell_type": "code",
   "execution_count": 49,
   "metadata": {},
   "outputs": [
    {
     "data": {
      "text/plain": [
       "[['018', 1.8472040593624115, 2490, 3942, 2735, 4508.8],\n",
       " ['018', 1.6859313547611237, 659, 4016, 828, 4407.3],\n",
       " ['018', 2.456051766872406, 659, 4016, 879, 4525.6],\n",
       " ['018', 0.996832235500855, 1875, 634, 2318, 1077],\n",
       " ['018', 0.9538099006814686, 1142, 3947, 1296, 4101]]"
      ]
     },
     "execution_count": 49,
     "metadata": {},
     "output_type": "execute_result"
    }
   ],
   "source": [
    "waldo"
   ]
  },
  {
   "cell_type": "code",
   "execution_count": 50,
   "metadata": {},
   "outputs": [
    {
     "data": {
      "text/plain": [
       "[['018', 0.8539416193962097, 1878, 3951, 2098, 4460.6],\n",
       " ['018', 0.9603613461723808, 2520, 3943, 2658, 4116],\n",
       " ['018', 0.9126586971477475, 7057, 4367, 7192, 4536]]"
      ]
     },
     "execution_count": 50,
     "metadata": {},
     "output_type": "execute_result"
    }
   ],
   "source": [
    "wenda"
   ]
  },
  {
   "cell_type": "code",
   "execution_count": 27,
   "metadata": {},
   "outputs": [],
   "source": [
    "waldo_f = waldo[3:]\n",
    "waldo_b = waldo[:2]\n",
    "wenda_f = wenda\n",
    "wenda_b = []"
   ]
  },
  {
   "cell_type": "code",
   "execution_count": 44,
   "metadata": {},
   "outputs": [
    {
     "data": {
      "text/plain": [
       "[['018', 0.996832235500855, 1875, 634, 2318, 1077],\n",
       " ['018', 0.9538099006814686, 1142, 3947, 1296, 4101]]"
      ]
     },
     "execution_count": 44,
     "metadata": {},
     "output_type": "execute_result"
    }
   ],
   "source": [
    "merge(wenda_b, waldo_f)"
   ]
  },
  {
   "cell_type": "code",
   "execution_count": 51,
   "metadata": {},
   "outputs": [
    {
     "name": "stdout",
     "output_type": "stream",
     "text": [
      "2490 2098 3951 4460.6\n",
      "1\n",
      "1878 828 4016 4407.3\n",
      "1\n",
      "2520 2658 3943 4116\n",
      "3\n",
      "7057 2735 4367 4508.8\n",
      "1\n",
      "7057 828 4367 4407.3\n",
      "1\n"
     ]
    },
    {
     "data": {
      "text/plain": [
       "[['018', 0.8539416193962097, 1878, 3951, 2098, 4460.6],\n",
       " ['018', 0.9126586971477475, 7057, 4367, 7192, 4536]]"
      ]
     },
     "execution_count": 51,
     "metadata": {},
     "output_type": "execute_result"
    }
   ],
   "source": [
    "merge(waldo_b, wenda_f)"
   ]
  },
  {
   "cell_type": "code",
   "execution_count": 20,
   "metadata": {},
   "outputs": [],
   "source": [
    "import numpy as np\n",
    "def validate(body, faces):\n",
    "    overlaps = []\n",
    "    for face in faces:\n",
    "        _, _, x11, y11, x12, y12 = body\n",
    "        _, _, x21, y21, x22, y22 = face\n",
    "        overlap_x1 = max(x11, x21)\n",
    "        overlap_x2 = min(x12, x22)\n",
    "        overlap_y1 = max(y11, y21)\n",
    "        overlap_y2 = min(y12, y22)\n",
    "        #print(overlap_x1, overlap_x2, overlap_y1, overlap_y2)\n",
    "        if overlap_x2 < overlap_x1 or overlap_y2 < overlap_y1:\n",
    "            overlap = 0\n",
    "        else:\n",
    "            overlap = (overlap_x2 - overlap_x1) * (overlap_y2 - overlap_y1)\n",
    "        overlaps.append(overlap)\n",
    "        #print(overlap)\n",
    "    if any(i > 0 for i in overlaps):\n",
    "        return True\n",
    "    return False"
   ]
  },
  {
   "cell_type": "code",
   "execution_count": 21,
   "metadata": {},
   "outputs": [],
   "source": [
    "def non_max_suppression_slow(boxes, overlapThresh):\n",
    "    # if there are no boxes, return an empty list\n",
    "    if len(boxes) == 0:\n",
    "        return []\n",
    " \n",
    "    # initialize the list of picked indexes\n",
    "    pick = []\n",
    " \n",
    "    # grab the coordinates of the bounding boxes\n",
    "    x1 = boxes[:,0]\n",
    "    y1 = boxes[:,1]\n",
    "    x2 = boxes[:,2]\n",
    "    y2 = boxes[:,3]\n",
    " \n",
    "    # compute the area of the bounding boxes and sort the bounding\n",
    "    # boxes by the bottom-right y-coordinate of the bounding box\n",
    "    area = (x2 - x1 + 1) * (y2 - y1 + 1)\n",
    "    idxs = np.argsort(y2)"
   ]
  },
  {
   "cell_type": "code",
   "execution_count": 38,
   "metadata": {},
   "outputs": [
    {
     "data": {
      "text/plain": [
       "array([2.17088884])"
      ]
     },
     "execution_count": 38,
     "metadata": {},
     "output_type": "execute_result"
    }
   ],
   "source": [
    "waldo_score[0]"
   ]
  },
  {
   "cell_type": "code",
   "execution_count": 41,
   "metadata": {},
   "outputs": [],
   "source": [
    "def merge(bodies, faces):\n",
    "    overlaps = []\n",
    "    merged_faces = []\n",
    "    for face in faces:\n",
    "        _, _, x21, y21, x22, y22 = face\n",
    "        should_merge = True\n",
    "        for body in bodies:\n",
    "            _, _, x11, y11, x12, y12 = body\n",
    "            overlap_x1 = max(x11, x21)\n",
    "            overlap_x2 = min(x12, x22)\n",
    "            overlap_y1 = max(y11, y21)\n",
    "            overlap_y2 = min(y12, y22)\n",
    "            print(overlap_x1, overlap_x2, overlap_y1, overlap_y2)\n",
    "            if overlap_x2 < overlap_x1 or overlap_y2 < overlap_y1:\n",
    "                should_merge = True\n",
    "                print(1)\n",
    "            else:\n",
    "                overlap = (overlap_x2 - overlap_x1) * (overlap_y2 - overlap_y1)\n",
    "                if overlap < 0.2 * (y22-y21) * (x22-x21):\n",
    "                    should_merge = True\n",
    "                    print(2)\n",
    "                else:\n",
    "                    should_merge = False\n",
    "                    print(3)\n",
    "                    break\n",
    "        if should_merge:\n",
    "            merged_faces.append(face)\n",
    "    return merged_faces"
   ]
  },
  {
   "cell_type": "code",
   "execution_count": 42,
   "metadata": {},
   "outputs": [],
   "source": [
    "faces = [['018', 1.8472040593624115, 2490, 3942, 2735, 4508.8],\n",
    "['018', 0.996832235500855, 1909, 3953, 2060, 4104]]\n",
    "bodies = [['018', 0.8539416193962097, 1878, 3951, 2098, 4460.6]]"
   ]
  },
  {
   "cell_type": "code",
   "execution_count": 43,
   "metadata": {},
   "outputs": [
    {
     "name": "stdout",
     "output_type": "stream",
     "text": [
      "2490 2098 3951 4460.6\n",
      "1\n",
      "1909 2060 3953 4104\n",
      "3\n"
     ]
    },
    {
     "data": {
      "text/plain": [
       "[['018', 1.8472040593624115, 2490, 3942, 2735, 4508.8]]"
      ]
     },
     "execution_count": 43,
     "metadata": {},
     "output_type": "execute_result"
    }
   ],
   "source": [
    "merge(bodies, faces)"
   ]
  },
  {
   "cell_type": "code",
   "execution_count": null,
   "metadata": {},
   "outputs": [],
   "source": []
  }
 ],
 "metadata": {
  "kernelspec": {
   "display_name": "Python 3",
   "language": "python",
   "name": "python3"
  },
  "language_info": {
   "codemirror_mode": {
    "name": "ipython",
    "version": 3
   },
   "file_extension": ".py",
   "mimetype": "text/x-python",
   "name": "python",
   "nbconvert_exporter": "python",
   "pygments_lexer": "ipython3",
   "version": "3.7.3"
  }
 },
 "nbformat": 4,
 "nbformat_minor": 2
}
